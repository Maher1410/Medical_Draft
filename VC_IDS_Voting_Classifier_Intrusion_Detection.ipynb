{
  "metadata": {
    "kernelspec": {
      "language": "python",
      "display_name": "Python 3",
      "name": "python3"
    },
    "language_info": {
      "name": "python",
      "version": "3.10.13",
      "mimetype": "text/x-python",
      "codemirror_mode": {
        "name": "ipython",
        "version": 3
      },
      "pygments_lexer": "ipython3",
      "nbconvert_exporter": "python",
      "file_extension": ".py"
    },
    "kaggle": {
      "accelerator": "none",
      "dataSources": [
        {
          "sourceId": 394223,
          "sourceType": "datasetVersion",
          "datasetId": 174616
        }
      ],
      "dockerImageVersionId": 30732,
      "isInternetEnabled": true,
      "language": "python",
      "sourceType": "notebook",
      "isGpuEnabled": false
    },
    "colab": {
      "name": "VC-IDS: Voting Classifier - Intrusion Detection",
      "provenance": [],
      "include_colab_link": true
    }
  },
  "nbformat_minor": 0,
  "nbformat": 4,
  "cells": [
    {
      "cell_type": "markdown",
      "metadata": {
        "id": "view-in-github",
        "colab_type": "text"
      },
      "source": [
        "<a href=\"https://colab.research.google.com/github/Maher1410/tteesstt/blob/main/VC_IDS_Voting_Classifier_Intrusion_Detection.ipynb\" target=\"_parent\"><img src=\"https://colab.research.google.com/assets/colab-badge.svg\" alt=\"Open In Colab\"/></a>"
      ]
    },
    {
      "source": [
        "# IMPORTANT: RUN THIS CELL IN ORDER TO IMPORT YOUR KAGGLE DATA SOURCES,\n",
        "# THEN FEEL FREE TO DELETE THIS CELL.\n",
        "# NOTE: THIS NOTEBOOK ENVIRONMENT DIFFERS FROM KAGGLE'S PYTHON\n",
        "# ENVIRONMENT SO THERE MAY BE MISSING LIBRARIES USED BY YOUR\n",
        "# NOTEBOOK.\n",
        "import kagglehub\n",
        "hassan06_nslkdd_path = kagglehub.dataset_download('hassan06/nslkdd')\n",
        "\n",
        "print('Data source import complete.')\n"
      ],
      "metadata": {
        "id": "MgDd7U_UTT5_"
      },
      "cell_type": "code",
      "outputs": [],
      "execution_count": null
    },
    {
      "cell_type": "code",
      "source": [
        "# importing required libraries\n",
        "import numpy as np\n",
        "import pandas as pd\n",
        "import shutil\n",
        "from sklearn.metrics import confusion_matrix, classification_report\n",
        "from sklearn.model_selection import train_test_split\n",
        "import tensorflow as tf\n",
        "from tensorflow import keras\n",
        "from tensorflow.keras.preprocessing.image import ImageDataGenerator\n",
        "from tensorflow.keras.models import Sequential\n",
        "from tensorflow.keras.layers import Dense, Activation,Dropout,Conv2D, MaxPooling2D,BatchNormalization, Flatten,LSTM, Bidirectional,GRU\n",
        "from tensorflow.keras.optimizers import Adam, Adamax\n",
        "from tensorflow.keras.metrics import categorical_crossentropy\n",
        "from tensorflow.keras import regularizers\n",
        "from tensorflow.keras.models import Model\n",
        "from tensorflow.keras.layers import Input\n",
        "from tensorflow.keras import backend as K\n",
        "import time\n",
        "from tqdm import tqdm"
      ],
      "metadata": {
        "execution": {
          "iopub.status.busy": "2024-06-08T17:21:41.226426Z",
          "iopub.execute_input": "2024-06-08T17:21:41.226841Z",
          "iopub.status.idle": "2024-06-08T17:21:57.680849Z",
          "shell.execute_reply.started": "2024-06-08T17:21:41.226805Z",
          "shell.execute_reply": "2024-06-08T17:21:57.679508Z"
        },
        "trusted": true,
        "id": "O8JTc9qHTT6C"
      },
      "outputs": [],
      "execution_count": null
    },
    {
      "cell_type": "code",
      "source": [
        "# dataset doesn't have column names, so we have to provide it\n",
        "col_names = [\"duration\",\"protocol_type\",\"service\",\"flag\",\"src_bytes\",\n",
        "    \"dst_bytes\",\"land\",\"wrong_fragment\",\"urgent\",\"hot\",\"num_failed_logins\",\n",
        "    \"logged_in\",\"num_compromised\",\"root_shell\",\"su_attempted\",\"num_root\",\n",
        "    \"num_file_creations\",\"num_shells\",\"num_access_files\",\"num_outbound_cmds\",\n",
        "    \"is_host_login\",\"is_guest_login\",\"count\",\"srv_count\",\"serror_rate\",\n",
        "    \"srv_serror_rate\",\"rerror_rate\",\"srv_rerror_rate\",\"same_srv_rate\",\n",
        "    \"diff_srv_rate\",\"srv_diff_host_rate\",\"dst_host_count\",\"dst_host_srv_count\",\n",
        "    \"dst_host_same_srv_rate\",\"dst_host_diff_srv_rate\",\"dst_host_same_src_port_rate\",\n",
        "    \"dst_host_srv_diff_host_rate\",\"dst_host_serror_rate\",\"dst_host_srv_serror_rate\",\n",
        "    \"dst_host_rerror_rate\",\"dst_host_srv_rerror_rate\",\"label\",\"difficulty_level\"]"
      ],
      "metadata": {
        "execution": {
          "iopub.status.busy": "2024-06-08T17:21:57.683329Z",
          "iopub.execute_input": "2024-06-08T17:21:57.684018Z",
          "iopub.status.idle": "2024-06-08T17:21:57.691829Z",
          "shell.execute_reply.started": "2024-06-08T17:21:57.683979Z",
          "shell.execute_reply": "2024-06-08T17:21:57.690408Z"
        },
        "trusted": true,
        "id": "FQ08YN8lTT6D"
      },
      "outputs": [],
      "execution_count": null
    },
    {
      "cell_type": "code",
      "source": [
        "# importing dataset\n",
        "data = pd.read_csv('/kaggle/input/nslkdd/KDDTrain+.txt',header=None, names=col_names)"
      ],
      "metadata": {
        "execution": {
          "iopub.status.busy": "2024-06-08T17:21:57.69376Z",
          "iopub.execute_input": "2024-06-08T17:21:57.694369Z",
          "iopub.status.idle": "2024-06-08T17:21:58.591518Z",
          "shell.execute_reply.started": "2024-06-08T17:21:57.694326Z",
          "shell.execute_reply": "2024-06-08T17:21:58.589679Z"
        },
        "trusted": true,
        "id": "_YA-8tNzTT6D"
      },
      "outputs": [],
      "execution_count": null
    },
    {
      "cell_type": "code",
      "source": [
        "# print dataset\n",
        "data"
      ],
      "metadata": {
        "execution": {
          "iopub.status.busy": "2024-06-08T17:21:58.593508Z",
          "iopub.execute_input": "2024-06-08T17:21:58.594167Z",
          "iopub.status.idle": "2024-06-08T17:21:58.690288Z",
          "shell.execute_reply.started": "2024-06-08T17:21:58.594116Z",
          "shell.execute_reply": "2024-06-08T17:21:58.689149Z"
        },
        "trusted": true,
        "id": "cCkJ-9SKTT6E"
      },
      "outputs": [],
      "execution_count": null
    },
    {
      "cell_type": "code",
      "source": [
        "# remove attribute 'difficulty_level'\n",
        "data.drop(['difficulty_level'],axis=1,inplace=True)\n",
        "data.shape"
      ],
      "metadata": {
        "execution": {
          "iopub.status.busy": "2024-06-08T17:21:58.694405Z",
          "iopub.execute_input": "2024-06-08T17:21:58.69478Z",
          "iopub.status.idle": "2024-06-08T17:21:58.717932Z",
          "shell.execute_reply.started": "2024-06-08T17:21:58.694747Z",
          "shell.execute_reply": "2024-06-08T17:21:58.716729Z"
        },
        "trusted": true,
        "id": "JFstDMDoTT6E"
      },
      "outputs": [],
      "execution_count": null
    },
    {
      "cell_type": "code",
      "source": [
        "# descriptive statistics of dataset\n",
        "data.describe()"
      ],
      "metadata": {
        "execution": {
          "iopub.status.busy": "2024-06-08T17:21:58.719579Z",
          "iopub.execute_input": "2024-06-08T17:21:58.720026Z",
          "iopub.status.idle": "2024-06-08T17:21:58.9702Z",
          "shell.execute_reply.started": "2024-06-08T17:21:58.719984Z",
          "shell.execute_reply": "2024-06-08T17:21:58.968877Z"
        },
        "trusted": true,
        "id": "jmHzqxZDTT6F"
      },
      "outputs": [],
      "execution_count": null
    },
    {
      "cell_type": "code",
      "source": [
        "# number of attack labels\n",
        "data['label'].value_counts()"
      ],
      "metadata": {
        "execution": {
          "iopub.status.busy": "2024-06-08T17:21:58.971625Z",
          "iopub.execute_input": "2024-06-08T17:21:58.971989Z",
          "iopub.status.idle": "2024-06-08T17:21:59.009738Z",
          "shell.execute_reply.started": "2024-06-08T17:21:58.971956Z",
          "shell.execute_reply": "2024-06-08T17:21:59.008161Z"
        },
        "trusted": true,
        "id": "4bIeyh9QTT6F"
      },
      "outputs": [],
      "execution_count": null
    },
    {
      "cell_type": "code",
      "source": [
        "# changing attack labels to their respective attack class\n",
        "def change_label(df):\n",
        "    df.label.replace(['apache2','back','land','neptune','mailbomb','pod','processtable','smurf','teardrop','udpstorm','worm'],'Dos',inplace=True)\n",
        "    df.label.replace(['ftp_write','guess_passwd','httptunnel','imap','multihop','named','phf','sendmail',\n",
        "       'snmpgetattack','snmpguess','spy','warezclient','warezmaster','xlock','xsnoop'],'R2L',inplace=True)\n",
        "    df.label.replace(['ipsweep','mscan','nmap','portsweep','saint','satan'],'Probe',inplace=True)\n",
        "    df.label.replace(['buffer_overflow','loadmodule','perl','ps','rootkit','sqlattack','xterm'],'U2R',inplace=True)"
      ],
      "metadata": {
        "execution": {
          "iopub.status.busy": "2024-06-08T17:21:59.011392Z",
          "iopub.execute_input": "2024-06-08T17:21:59.0118Z",
          "iopub.status.idle": "2024-06-08T17:21:59.021719Z",
          "shell.execute_reply.started": "2024-06-08T17:21:59.011763Z",
          "shell.execute_reply": "2024-06-08T17:21:59.020529Z"
        },
        "trusted": true,
        "id": "fds0vRq-TT6F"
      },
      "outputs": [],
      "execution_count": null
    },
    {
      "cell_type": "code",
      "source": [
        "# calling change_label() function\n",
        "change_label(data)"
      ],
      "metadata": {
        "execution": {
          "iopub.status.busy": "2024-06-08T17:21:59.023365Z",
          "iopub.execute_input": "2024-06-08T17:21:59.023788Z",
          "iopub.status.idle": "2024-06-08T17:21:59.350267Z",
          "shell.execute_reply.started": "2024-06-08T17:21:59.023745Z",
          "shell.execute_reply": "2024-06-08T17:21:59.349128Z"
        },
        "trusted": true,
        "id": "m_Uc-nPoTT6G"
      },
      "outputs": [],
      "execution_count": null
    },
    {
      "cell_type": "code",
      "source": [
        "# distribution of attack classes\n",
        "data.label.value_counts()"
      ],
      "metadata": {
        "execution": {
          "iopub.status.busy": "2024-06-08T17:21:59.351566Z",
          "iopub.execute_input": "2024-06-08T17:21:59.351912Z",
          "iopub.status.idle": "2024-06-08T17:21:59.384572Z",
          "shell.execute_reply.started": "2024-06-08T17:21:59.35188Z",
          "shell.execute_reply": "2024-06-08T17:21:59.383128Z"
        },
        "trusted": true,
        "id": "PxPCfEpHTT6G"
      },
      "outputs": [],
      "execution_count": null
    },
    {
      "cell_type": "markdown",
      "source": [
        "##  Data Normalization\n"
      ],
      "metadata": {
        "id": "L3hXA3vWTT6H"
      }
    },
    {
      "cell_type": "code",
      "source": [
        "# importing required libraries for normalizing data\n",
        "from sklearn import preprocessing\n",
        "from sklearn.preprocessing import StandardScaler"
      ],
      "metadata": {
        "execution": {
          "iopub.status.busy": "2024-06-08T17:21:59.386105Z",
          "iopub.execute_input": "2024-06-08T17:21:59.386548Z",
          "iopub.status.idle": "2024-06-08T17:21:59.394819Z",
          "shell.execute_reply.started": "2024-06-08T17:21:59.386509Z",
          "shell.execute_reply": "2024-06-08T17:21:59.393571Z"
        },
        "trusted": true,
        "id": "8WkT_Y3iTT6I"
      },
      "outputs": [],
      "execution_count": null
    },
    {
      "cell_type": "code",
      "source": [
        "# selecting numeric attributes columns from data\n",
        "numeric_col = data.select_dtypes(include='number').columns"
      ],
      "metadata": {
        "execution": {
          "iopub.status.busy": "2024-06-08T17:21:59.396214Z",
          "iopub.execute_input": "2024-06-08T17:21:59.396576Z",
          "iopub.status.idle": "2024-06-08T17:21:59.423676Z",
          "shell.execute_reply.started": "2024-06-08T17:21:59.396546Z",
          "shell.execute_reply": "2024-06-08T17:21:59.422198Z"
        },
        "trusted": true,
        "id": "JDEfDL9pTT6J"
      },
      "outputs": [],
      "execution_count": null
    },
    {
      "cell_type": "code",
      "source": [
        "# using standard scaler for normalizing\n",
        "std_scaler = StandardScaler()\n",
        "def normalization(df,col):\n",
        "    for i in col:\n",
        "        arr = df[i]\n",
        "        arr = np.array(arr)\n",
        "        df[i] = std_scaler.fit_transform(arr.reshape(len(arr),1))\n",
        "    return df"
      ],
      "metadata": {
        "execution": {
          "iopub.status.busy": "2024-06-08T17:21:59.424861Z",
          "iopub.execute_input": "2024-06-08T17:21:59.425262Z",
          "iopub.status.idle": "2024-06-08T17:21:59.433476Z",
          "shell.execute_reply.started": "2024-06-08T17:21:59.425213Z",
          "shell.execute_reply": "2024-06-08T17:21:59.43189Z"
        },
        "trusted": true,
        "id": "mCQnxFykTT6J"
      },
      "outputs": [],
      "execution_count": null
    },
    {
      "cell_type": "code",
      "source": [
        "# data before normalization\n",
        "data.head()"
      ],
      "metadata": {
        "execution": {
          "iopub.status.busy": "2024-06-08T17:21:59.442224Z",
          "iopub.execute_input": "2024-06-08T17:21:59.443334Z",
          "iopub.status.idle": "2024-06-08T17:21:59.473716Z",
          "shell.execute_reply.started": "2024-06-08T17:21:59.443279Z",
          "shell.execute_reply": "2024-06-08T17:21:59.472285Z"
        },
        "trusted": true,
        "id": "mDX09_f1TT6J"
      },
      "outputs": [],
      "execution_count": null
    },
    {
      "cell_type": "code",
      "source": [
        "# calling the normalization() function\n",
        "data = normalization(data.copy(),numeric_col)"
      ],
      "metadata": {
        "execution": {
          "iopub.status.busy": "2024-06-08T17:21:59.475309Z",
          "iopub.execute_input": "2024-06-08T17:21:59.475724Z",
          "iopub.status.idle": "2024-06-08T17:21:59.611796Z",
          "shell.execute_reply.started": "2024-06-08T17:21:59.475679Z",
          "shell.execute_reply": "2024-06-08T17:21:59.610413Z"
        },
        "trusted": true,
        "id": "we9P8tFGTT6K"
      },
      "outputs": [],
      "execution_count": null
    },
    {
      "cell_type": "code",
      "source": [
        "# data after normalization\n",
        "data.head()"
      ],
      "metadata": {
        "execution": {
          "iopub.status.busy": "2024-06-08T17:21:59.613489Z",
          "iopub.execute_input": "2024-06-08T17:21:59.614295Z",
          "iopub.status.idle": "2024-06-08T17:21:59.645602Z",
          "shell.execute_reply.started": "2024-06-08T17:21:59.614257Z",
          "shell.execute_reply": "2024-06-08T17:21:59.644301Z"
        },
        "trusted": true,
        "id": "ZZeKXAwFTT6K"
      },
      "outputs": [],
      "execution_count": null
    },
    {
      "cell_type": "markdown",
      "source": [
        "## One-hot-encoding"
      ],
      "metadata": {
        "id": "l77sHXS9TT6K"
      }
    },
    {
      "cell_type": "code",
      "source": [
        "# selecting categorical data attributes\n",
        "cat_col = ['protocol_type','service','flag']"
      ],
      "metadata": {
        "execution": {
          "iopub.status.busy": "2024-06-08T17:21:59.647222Z",
          "iopub.execute_input": "2024-06-08T17:21:59.647613Z",
          "iopub.status.idle": "2024-06-08T17:21:59.65316Z",
          "shell.execute_reply.started": "2024-06-08T17:21:59.647579Z",
          "shell.execute_reply": "2024-06-08T17:21:59.651733Z"
        },
        "trusted": true,
        "id": "S95uqH70TT6K"
      },
      "outputs": [],
      "execution_count": null
    },
    {
      "cell_type": "code",
      "source": [
        "# creating a dataframe with only categorical attributes\n",
        "categorical = data[cat_col]\n",
        "categorical.head()"
      ],
      "metadata": {
        "execution": {
          "iopub.status.busy": "2024-06-08T17:21:59.654709Z",
          "iopub.execute_input": "2024-06-08T17:21:59.655308Z",
          "iopub.status.idle": "2024-06-08T17:21:59.677306Z",
          "shell.execute_reply.started": "2024-06-08T17:21:59.655232Z",
          "shell.execute_reply": "2024-06-08T17:21:59.676171Z"
        },
        "trusted": true,
        "id": "JMvOcPvBTT6L"
      },
      "outputs": [],
      "execution_count": null
    },
    {
      "cell_type": "code",
      "source": [
        "# one-hot-encoding categorical attributes using pandas.get_dummies() function\n",
        "categorical = pd.get_dummies(categorical,columns=cat_col)\n",
        "categorical.head()"
      ],
      "metadata": {
        "execution": {
          "iopub.status.busy": "2024-06-08T17:21:59.678855Z",
          "iopub.execute_input": "2024-06-08T17:21:59.679408Z",
          "iopub.status.idle": "2024-06-08T17:21:59.760838Z",
          "shell.execute_reply.started": "2024-06-08T17:21:59.679362Z",
          "shell.execute_reply": "2024-06-08T17:21:59.759614Z"
        },
        "trusted": true,
        "id": "YJ6XtsoUTT6L"
      },
      "outputs": [],
      "execution_count": null
    },
    {
      "cell_type": "markdown",
      "source": [
        "## Binary Classification"
      ],
      "metadata": {
        "id": "2_wok_KVTT6L"
      }
    },
    {
      "cell_type": "code",
      "source": [
        "# changing attack labels into two categories 'normal' and 'abnormal'\n",
        "bin_label = pd.DataFrame(data.label.map(lambda x:'normal' if x=='normal' else 'abnormal'))"
      ],
      "metadata": {
        "execution": {
          "iopub.status.busy": "2024-06-08T17:21:59.762567Z",
          "iopub.execute_input": "2024-06-08T17:21:59.763028Z",
          "iopub.status.idle": "2024-06-08T17:21:59.814653Z",
          "shell.execute_reply.started": "2024-06-08T17:21:59.762979Z",
          "shell.execute_reply": "2024-06-08T17:21:59.813482Z"
        },
        "trusted": true,
        "id": "vJ7_isPuTT6M"
      },
      "outputs": [],
      "execution_count": null
    },
    {
      "cell_type": "code",
      "source": [
        "# creating a dataframe with binary labels (normal,abnormal)\n",
        "bin_data = data.copy()\n",
        "bin_data['label'] = bin_label"
      ],
      "metadata": {
        "execution": {
          "iopub.status.busy": "2024-06-08T17:21:59.81649Z",
          "iopub.execute_input": "2024-06-08T17:21:59.816988Z",
          "iopub.status.idle": "2024-06-08T17:21:59.87981Z",
          "shell.execute_reply.started": "2024-06-08T17:21:59.816942Z",
          "shell.execute_reply": "2024-06-08T17:21:59.878409Z"
        },
        "trusted": true,
        "id": "ixsIx9LmTT6M"
      },
      "outputs": [],
      "execution_count": null
    },
    {
      "cell_type": "code",
      "source": [
        "# label encoding (0,1) binary labels (abnormal,normal)\n",
        "le1 = preprocessing.LabelEncoder()\n",
        "enc_label = bin_label.apply(le1.fit_transform)\n",
        "bin_data['intrusion'] = enc_label"
      ],
      "metadata": {
        "execution": {
          "iopub.status.busy": "2024-06-08T17:21:59.881446Z",
          "iopub.execute_input": "2024-06-08T17:21:59.881794Z",
          "iopub.status.idle": "2024-06-08T17:21:59.925568Z",
          "shell.execute_reply.started": "2024-06-08T17:21:59.881758Z",
          "shell.execute_reply": "2024-06-08T17:21:59.924355Z"
        },
        "trusted": true,
        "id": "lGa9UIS7TT6M"
      },
      "outputs": [],
      "execution_count": null
    },
    {
      "cell_type": "code",
      "source": [
        "le1.classes_"
      ],
      "metadata": {
        "execution": {
          "iopub.status.busy": "2024-06-08T17:21:59.926896Z",
          "iopub.execute_input": "2024-06-08T17:21:59.927335Z",
          "iopub.status.idle": "2024-06-08T17:21:59.934986Z",
          "shell.execute_reply.started": "2024-06-08T17:21:59.927302Z",
          "shell.execute_reply": "2024-06-08T17:21:59.933788Z"
        },
        "trusted": true,
        "id": "0KWQwz8xTT6M"
      },
      "outputs": [],
      "execution_count": null
    },
    {
      "cell_type": "code",
      "source": [
        "# dataset with binary labels and label encoded column\n",
        "bin_data.head()"
      ],
      "metadata": {
        "execution": {
          "iopub.status.busy": "2024-06-08T17:21:59.936614Z",
          "iopub.execute_input": "2024-06-08T17:21:59.936991Z",
          "iopub.status.idle": "2024-06-08T17:21:59.96795Z",
          "shell.execute_reply.started": "2024-06-08T17:21:59.936955Z",
          "shell.execute_reply": "2024-06-08T17:21:59.966669Z"
        },
        "trusted": true,
        "id": "FmLEiq60TT6N"
      },
      "outputs": [],
      "execution_count": null
    },
    {
      "cell_type": "code",
      "source": [
        "# one-hot-encoding attack label\n",
        "bin_data = pd.get_dummies(bin_data,columns=['label'],prefix=\"\",prefix_sep=\"\")\n",
        "bin_data['label'] = bin_label\n",
        "bin_data"
      ],
      "metadata": {
        "execution": {
          "iopub.status.busy": "2024-06-08T17:21:59.96962Z",
          "iopub.execute_input": "2024-06-08T17:21:59.970109Z",
          "iopub.status.idle": "2024-06-08T17:22:00.103624Z",
          "shell.execute_reply.started": "2024-06-08T17:21:59.97004Z",
          "shell.execute_reply": "2024-06-08T17:22:00.102486Z"
        },
        "trusted": true,
        "id": "k1X4SRytTT6N"
      },
      "outputs": [],
      "execution_count": null
    },
    {
      "cell_type": "code",
      "source": [
        "# importing library for plotting\n",
        "import matplotlib.pyplot as plt"
      ],
      "metadata": {
        "execution": {
          "iopub.status.busy": "2024-06-08T17:22:00.105222Z",
          "iopub.execute_input": "2024-06-08T17:22:00.105685Z",
          "iopub.status.idle": "2024-06-08T17:22:00.111788Z",
          "shell.execute_reply.started": "2024-06-08T17:22:00.105638Z",
          "shell.execute_reply": "2024-06-08T17:22:00.110579Z"
        },
        "trusted": true,
        "id": "Ni5W3P1yTT6N"
      },
      "outputs": [],
      "execution_count": null
    },
    {
      "cell_type": "code",
      "source": [
        "import matplotlib.pyplot as plt\n",
        "\n",
        "# Assuming bin_data is your DataFrame and it has a 'label' column\n",
        "label_counts = bin_data.label.value_counts()\n",
        "\n",
        "plt.figure(figsize=(8,6))\n",
        "plt.bar(label_counts.index, label_counts.values, color=['blue', 'red'])\n",
        "plt.xlabel('Label')\n",
        "plt.ylabel('Count')\n",
        "plt.title('Bar chart distribution of normal and abnormal labels')\n",
        "plt.show()"
      ],
      "metadata": {
        "execution": {
          "iopub.status.busy": "2024-06-08T17:38:33.712653Z",
          "iopub.execute_input": "2024-06-08T17:38:33.713041Z",
          "iopub.status.idle": "2024-06-08T17:38:34.00358Z",
          "shell.execute_reply.started": "2024-06-08T17:38:33.713001Z",
          "shell.execute_reply": "2024-06-08T17:38:34.002282Z"
        },
        "trusted": true,
        "id": "3A-ToPNqTT6O"
      },
      "outputs": [],
      "execution_count": null
    },
    {
      "cell_type": "markdown",
      "source": [
        "## Feature Extraction"
      ],
      "metadata": {
        "id": "_OyB2i96TT6O"
      }
    },
    {
      "cell_type": "code",
      "source": [
        "# creating a dataframe with only numeric attributes of binary class dataset and encoded label attribute\n",
        "numeric_bin = bin_data[numeric_col]\n",
        "numeric_bin['intrusion'] = bin_data['intrusion']"
      ],
      "metadata": {
        "execution": {
          "iopub.status.busy": "2024-06-08T17:22:00.427711Z",
          "iopub.execute_input": "2024-06-08T17:22:00.428169Z",
          "iopub.status.idle": "2024-06-08T17:22:00.45346Z",
          "shell.execute_reply.started": "2024-06-08T17:22:00.428127Z",
          "shell.execute_reply": "2024-06-08T17:22:00.452108Z"
        },
        "trusted": true,
        "id": "ppHQcTHUTT6O"
      },
      "outputs": [],
      "execution_count": null
    },
    {
      "cell_type": "code",
      "source": [
        "# finding the attributes which have more than 0.5 correlation with encoded attack label attribute\n",
        "corr= numeric_bin.corr()\n",
        "corr_y = abs(corr['intrusion'])\n",
        "highest_corr = corr_y[corr_y >0.5]\n",
        "highest_corr.sort_values(ascending=True)"
      ],
      "metadata": {
        "execution": {
          "iopub.status.busy": "2024-06-08T17:22:00.455942Z",
          "iopub.execute_input": "2024-06-08T17:22:00.456458Z",
          "iopub.status.idle": "2024-06-08T17:22:01.024197Z",
          "shell.execute_reply.started": "2024-06-08T17:22:00.456414Z",
          "shell.execute_reply": "2024-06-08T17:22:01.023054Z"
        },
        "trusted": true,
        "id": "d5JVfy-qTT6P"
      },
      "outputs": [],
      "execution_count": null
    },
    {
      "cell_type": "code",
      "source": [
        "# selecting attributes found by using pearson correlation coefficient\n",
        "numeric_bin = bin_data[['count','srv_serror_rate','serror_rate','dst_host_serror_rate','dst_host_srv_serror_rate',\n",
        "                         'logged_in','dst_host_same_srv_rate','dst_host_srv_count','same_srv_rate']]"
      ],
      "metadata": {
        "execution": {
          "iopub.status.busy": "2024-06-08T17:22:01.025875Z",
          "iopub.execute_input": "2024-06-08T17:22:01.02635Z",
          "iopub.status.idle": "2024-06-08T17:22:01.035044Z",
          "shell.execute_reply.started": "2024-06-08T17:22:01.026306Z",
          "shell.execute_reply": "2024-06-08T17:22:01.033798Z"
        },
        "trusted": true,
        "id": "OSHQkOFRTT6P"
      },
      "outputs": [],
      "execution_count": null
    },
    {
      "cell_type": "code",
      "source": [
        "# joining the selected attribute with the one-hot-encoded categorical dataframe\n",
        "numeric_bin = numeric_bin.join(categorical)\n",
        "# then joining encoded, one-hot-encoded, and original attack label attribute\n",
        "bin_data = numeric_bin.join(bin_data[['intrusion','abnormal','normal','label']])"
      ],
      "metadata": {
        "execution": {
          "iopub.status.busy": "2024-06-08T17:22:01.036685Z",
          "iopub.execute_input": "2024-06-08T17:22:01.03725Z",
          "iopub.status.idle": "2024-06-08T17:22:01.074637Z",
          "shell.execute_reply.started": "2024-06-08T17:22:01.037213Z",
          "shell.execute_reply": "2024-06-08T17:22:01.073405Z"
        },
        "trusted": true,
        "id": "YsIqxM74TT6P"
      },
      "outputs": [],
      "execution_count": null
    },
    {
      "cell_type": "code",
      "source": [
        "# saving final dataset to disk\n",
        "bin_data.to_csv(\"/kaggle/working//bin_data.csv\")\n",
        "# final dataset for binary classification\n",
        "bin_data"
      ],
      "metadata": {
        "execution": {
          "iopub.status.busy": "2024-06-08T17:22:01.076273Z",
          "iopub.execute_input": "2024-06-08T17:22:01.076738Z",
          "iopub.status.idle": "2024-06-08T17:22:09.217751Z",
          "shell.execute_reply.started": "2024-06-08T17:22:01.076693Z",
          "shell.execute_reply": "2024-06-08T17:22:09.216489Z"
        },
        "trusted": true,
        "id": "fTekfinDTT6Q"
      },
      "outputs": [],
      "execution_count": null
    },
    {
      "cell_type": "markdown",
      "source": [],
      "metadata": {
        "id": "c9vdIm94TT6Q"
      }
    },
    {
      "cell_type": "code",
      "source": [
        "from sklearn.model_selection import train_test_split\n",
        "from sklearn.svm import SVC\n",
        "from sklearn.metrics import accuracy_score\n",
        "from sklearn.metrics import classification_report\n",
        "\n",
        "X = bin_data.iloc[:,0:93].to_numpy() # dataset excluding target attribute (encoded, one-hot-encoded,original)\n",
        "Y = bin_data['intrusion'] # target attribute\n",
        "\n",
        "# splitting the dataset 75% for training and 25% testing\n",
        "X_train, X_test, y_train, y_test = train_test_split(X,Y, test_size=0.25, random_state=42)"
      ],
      "metadata": {
        "execution": {
          "iopub.status.busy": "2024-06-08T17:22:09.219439Z",
          "iopub.execute_input": "2024-06-08T17:22:09.219785Z",
          "iopub.status.idle": "2024-06-08T17:22:11.311528Z",
          "shell.execute_reply.started": "2024-06-08T17:22:09.219752Z",
          "shell.execute_reply": "2024-06-08T17:22:11.310219Z"
        },
        "trusted": true,
        "id": "uzdDt3seTT6Q"
      },
      "outputs": [],
      "execution_count": null
    },
    {
      "cell_type": "code",
      "source": [
        "from sklearn.tree import DecisionTreeClassifier\n",
        "from sklearn.ensemble import RandomForestClassifier\n",
        "from sklearn.naive_bayes import GaussianNB\n",
        "from sklearn.neighbors import KNeighborsClassifier\n",
        "from sklearn.svm import SVC\n",
        "from sklearn.neural_network import MLPClassifier\n",
        "from sklearn.ensemble import AdaBoostClassifier\n",
        "from sklearn.ensemble import GradientBoostingClassifier\n",
        "from sklearn.ensemble import ExtraTreesClassifier\n",
        "from sklearn.linear_model import LogisticRegression\n",
        "from sklearn.model_selection import train_test_split\n",
        "from sklearn.metrics import accuracy_score\n",
        "from sklearn.preprocessing import LabelEncoder\n",
        "from xgboost import XGBClassifier\n",
        "from catboost import CatBoostClassifier\n",
        "from sklearn.metrics import accuracy_score\n",
        "from sklearn.metrics import classification_report"
      ],
      "metadata": {
        "execution": {
          "iopub.status.busy": "2024-06-08T17:22:11.313843Z",
          "iopub.execute_input": "2024-06-08T17:22:11.314461Z",
          "iopub.status.idle": "2024-06-08T17:22:12.056542Z",
          "shell.execute_reply.started": "2024-06-08T17:22:11.314414Z",
          "shell.execute_reply": "2024-06-08T17:22:12.05521Z"
        },
        "trusted": true,
        "id": "TVoLZKn-TT6Y"
      },
      "outputs": [],
      "execution_count": null
    },
    {
      "cell_type": "code",
      "source": [
        "from mlxtend.plotting import plot_confusion_matrix\n",
        "classifiers = [\n",
        "               ['LogisticRegression :', LogisticRegression(max_iter = 1000)],\n",
        "               ['ExtraTreesClassifier :', ExtraTreesClassifier()],\n",
        "               ['DecisionTree :',DecisionTreeClassifier()],\n",
        "               ['RandomForest :',RandomForestClassifier()],\n",
        "               ['Naive Bayes :', GaussianNB()],\n",
        "               ['KNeighbours :', KNeighborsClassifier()],\n",
        "               ['SVM :', SVC()]\n",
        "]\n",
        "\n",
        "predictions_df = pd.DataFrame()\n",
        "predictions_df['intrusion'] = y_test\n",
        "\n",
        "for name,classifier in classifiers:\n",
        "    classifier = classifier\n",
        "    classifier.fit(X_train, y_train.ravel())\n",
        "    predictions = classifier.predict(X_test)\n",
        "    predictions_df[name.strip(\" :\")] = predictions\n",
        "    print(name, accuracy_score(y_test, predictions))\n",
        "    cm = confusion_matrix(y_test, predictions)\n",
        "    print(cm)\n",
        "    print(classification_report(y_test, predictions))\n"
      ],
      "metadata": {
        "execution": {
          "iopub.status.busy": "2024-06-08T17:22:12.058728Z",
          "iopub.execute_input": "2024-06-08T17:22:12.059328Z",
          "iopub.status.idle": "2024-06-08T17:35:56.044244Z",
          "shell.execute_reply.started": "2024-06-08T17:22:12.059259Z",
          "shell.execute_reply": "2024-06-08T17:35:56.042181Z"
        },
        "trusted": true,
        "id": "x7oRV3M6TT6Z"
      },
      "outputs": [],
      "execution_count": null
    },
    {
      "cell_type": "code",
      "source": [
        "from sklearn.ensemble import VotingClassifier\n",
        "clf1 = DecisionTreeClassifier()\n",
        "clf2 = RandomForestClassifier()\n",
        "clf3 = ExtraTreesClassifier()\n",
        "eclf1 = VotingClassifier(estimators=[('DT', clf1), ('RF', clf2), ('ET', clf3)], voting='soft')\n",
        "eclf1.fit(X_train, y_train)\n",
        "predictions = eclf1.predict(X_test)\n",
        "print(classification_report(y_test, predictions))"
      ],
      "metadata": {
        "execution": {
          "iopub.status.busy": "2024-06-08T17:35:56.046193Z",
          "iopub.execute_input": "2024-06-08T17:35:56.046678Z",
          "iopub.status.idle": "2024-06-08T17:36:29.129148Z",
          "shell.execute_reply.started": "2024-06-08T17:35:56.046629Z",
          "shell.execute_reply": "2024-06-08T17:36:29.128064Z"
        },
        "trusted": true,
        "id": "3O1GQh5pTT6Z"
      },
      "outputs": [],
      "execution_count": null
    },
    {
      "cell_type": "code",
      "source": [
        "vot_acc = accuracy_score(y_test, predictions)\n",
        "print(\"Accuracy of Voting Classifier is : \", \"{:.2f}%\".format(100*vot_acc ))\n",
        "#plotting the confussion matrix\n",
        "from mlxtend.plotting import plot_confusion_matrix\n",
        "cm = confusion_matrix(y_test, predictions)\n",
        "print(classification_report(y_test, predictions))\n",
        "plt.figure()\n",
        "plot_confusion_matrix(cm, figsize=(12,8), hide_ticks=True,cmap=plt.cm.Blues)\n",
        "plt.title(\"Voting Classifier Model - Confusion Matrix\")\n",
        "plt.xticks(range(2), [\"No Attack\",\"Attack\"], fontsize=12)\n",
        "plt.yticks(range(2), [\"No Attack\",\"Attack\"], fontsize=12)\n",
        "plt.show()"
      ],
      "metadata": {
        "execution": {
          "iopub.status.busy": "2024-06-08T17:36:29.131002Z",
          "iopub.execute_input": "2024-06-08T17:36:29.131423Z",
          "iopub.status.idle": "2024-06-08T17:36:29.404906Z",
          "shell.execute_reply.started": "2024-06-08T17:36:29.131389Z",
          "shell.execute_reply": "2024-06-08T17:36:29.403274Z"
        },
        "trusted": true,
        "id": "D17HZn69TT6a"
      },
      "outputs": [],
      "execution_count": null
    },
    {
      "cell_type": "code",
      "source": [
        "eclf2 = VotingClassifier(estimators=[('DT', clf1), ('RF', clf2), ('ET', clf3)], voting='hard')\n",
        "eclf2.fit(X_train, y_train)\n",
        "predictions1 = eclf2.predict(X_test)\n",
        "print(classification_report(y_test, predictions))"
      ],
      "metadata": {
        "execution": {
          "iopub.status.busy": "2024-06-08T17:36:29.4078Z",
          "iopub.execute_input": "2024-06-08T17:36:29.408841Z",
          "iopub.status.idle": "2024-06-08T17:37:01.691311Z",
          "shell.execute_reply.started": "2024-06-08T17:36:29.408773Z",
          "shell.execute_reply": "2024-06-08T17:37:01.690175Z"
        },
        "trusted": true,
        "id": "p75lxnglTT6a"
      },
      "outputs": [],
      "execution_count": null
    },
    {
      "cell_type": "code",
      "source": [
        "vot_acc = accuracy_score(y_test, predictions1)\n",
        "print(\"Accuracy of Voting Classifier is : \", \"{:.2f}%\".format(100*vot_acc ))\n",
        "#plotting the confussion matrix\n",
        "from mlxtend.plotting import plot_confusion_matrix\n",
        "cm = confusion_matrix(y_test, predictions1)\n",
        "print(classification_report(y_test, predictions1))\n",
        "plt.figure()\n",
        "plot_confusion_matrix(cm, figsize=(12,8), hide_ticks=True,cmap=plt.cm.Blues)\n",
        "plt.title(\"Voting Classifier Model - Confusion Matrix\")\n",
        "plt.xticks(range(2), [\"No Attack\",\"Attack\"], fontsize=12)\n",
        "plt.yticks(range(2), [\"No Attack\",\"Attack\"], fontsize=12)\n",
        "plt.show()"
      ],
      "metadata": {
        "execution": {
          "iopub.status.busy": "2024-06-08T17:37:01.692698Z",
          "iopub.execute_input": "2024-06-08T17:37:01.693063Z",
          "iopub.status.idle": "2024-06-08T17:37:02.018702Z",
          "shell.execute_reply.started": "2024-06-08T17:37:01.693031Z",
          "shell.execute_reply": "2024-06-08T17:37:02.017416Z"
        },
        "trusted": true,
        "id": "8aabqahbTT6a"
      },
      "outputs": [],
      "execution_count": null
    },
    {
      "cell_type": "code",
      "source": [
        "!pip install lime\n",
        "!pip install shap"
      ],
      "metadata": {
        "execution": {
          "iopub.status.busy": "2024-06-08T17:37:02.020474Z",
          "iopub.execute_input": "2024-06-08T17:37:02.020941Z",
          "iopub.status.idle": "2024-06-08T17:37:33.340104Z",
          "shell.execute_reply.started": "2024-06-08T17:37:02.020897Z",
          "shell.execute_reply": "2024-06-08T17:37:33.338532Z"
        },
        "trusted": true,
        "id": "gBTcPRLYTT6b"
      },
      "outputs": [],
      "execution_count": null
    },
    {
      "cell_type": "code",
      "source": [
        "import pandas as pd\n",
        "from sklearn.ensemble import VotingClassifier, RandomForestClassifier, ExtraTreesClassifier\n",
        "from sklearn.tree import DecisionTreeClassifier\n",
        "from sklearn.metrics import classification_report\n",
        "import shap\n",
        "from lime import lime_tabular\n",
        "import numpy as np\n",
        "\n",
        "# Assuming X_train and X_test are initially numpy arrays\n",
        "# Convert them to pandas DataFrames\n",
        "X_train_df = pd.DataFrame(X_train)\n",
        "X_test_df = pd.DataFrame(X_test)\n",
        "\n",
        "# Ensure all data is numeric\n",
        "X_train_df = X_train_df.apply(pd.to_numeric, errors='coerce')\n",
        "X_test_df = X_test_df.apply(pd.to_numeric, errors='coerce')\n",
        "\n",
        "# Convert back to numpy arrays if needed\n",
        "X_train = X_train_df.values\n",
        "X_test = X_test_df.values\n",
        "\n",
        "# Define classifiers and VotingClassifier\n",
        "clf1 = DecisionTreeClassifier()\n",
        "clf2 = RandomForestClassifier()\n",
        "clf3 = ExtraTreesClassifier()\n",
        "eclf1 = VotingClassifier(estimators=[('DT', clf1), ('RF', clf2), ('ET', clf3)], voting='soft')\n",
        "\n",
        "# Fit the VotingClassifier\n",
        "eclf1.fit(X_train, y_train)\n",
        "\n",
        "# Make predictions\n",
        "predictions = eclf1.predict(X_test)\n",
        "print(classification_report(y_test, predictions))\n",
        "\n",
        "# LIME explanations\n",
        "explainer_lime = lime_tabular.LimeTabularExplainer(\n",
        "    training_data=X_train,\n",
        "    feature_names=X_train_df.columns,\n",
        "    class_names=['abnormal', 'normal'],\n",
        "    mode='classification'\n",
        ")\n",
        "\n",
        "exp = explainer_lime.explain_instance(\n",
        "    data_row=X_test[0],\n",
        "    predict_fn=eclf1.predict_proba\n",
        ")\n",
        "\n",
        "exp.show_in_notebook(show_table=True, show_all=False)\n"
      ],
      "metadata": {
        "execution": {
          "iopub.status.busy": "2024-06-08T17:37:33.352173Z",
          "iopub.execute_input": "2024-06-08T17:37:33.352596Z",
          "iopub.status.idle": "2024-06-08T17:38:33.407769Z",
          "shell.execute_reply.started": "2024-06-08T17:37:33.352559Z",
          "shell.execute_reply": "2024-06-08T17:38:33.406053Z"
        },
        "trusted": true,
        "id": "oSypUlJeTT6b"
      },
      "outputs": [],
      "execution_count": null
    }
  ]
}